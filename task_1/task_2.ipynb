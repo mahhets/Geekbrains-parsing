{
 "cells": [
  {
   "cell_type": "code",
   "execution_count": 1,
   "metadata": {},
   "outputs": [],
   "source": [
    "import requests\n",
    "import json"
   ]
  },
  {
   "cell_type": "code",
   "execution_count": 2,
   "metadata": {},
   "outputs": [],
   "source": [
    "# Это Москва со спутника за 2017-08-11.\n",
    "# Минут 20 искал фото с минимум облаков\n",
    "ml = 'https://api.nasa.gov/planetary/earth/imagery'\n",
    "param = {'lon':'37.6156',\n",
    "         'lat':'55.7522',\n",
    "         'date':'2017-08-11',\n",
    "         'dim':'0.6',\n",
    "         'api_key':'9a1pUOjzTa5wADQhOjjY74Odl67BhzUzkVOC9tg9'}\n",
    "a = requests.get(ml, params = param)\n",
    "\n",
    "with open('Moscow_2017-08-11.jpg', 'wb') as f:\n",
    "    f.write(a.content)"
   ]
  }
 ],
 "metadata": {
  "kernelspec": {
   "display_name": "Python 3",
   "language": "python",
   "name": "python3"
  },
  "language_info": {
   "codemirror_mode": {
    "name": "ipython",
    "version": 3
   },
   "file_extension": ".py",
   "mimetype": "text/x-python",
   "name": "python",
   "nbconvert_exporter": "python",
   "pygments_lexer": "ipython3",
   "version": "3.7.6"
  }
 },
 "nbformat": 4,
 "nbformat_minor": 4
}
