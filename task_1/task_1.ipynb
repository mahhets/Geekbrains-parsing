{
 "cells": [
  {
   "cell_type": "code",
   "execution_count": 1,
   "metadata": {},
   "outputs": [],
   "source": [
    "import requests\n",
    "import json"
   ]
  },
  {
   "cell_type": "code",
   "execution_count": 2,
   "metadata": {},
   "outputs": [
    {
     "data": {
      "text/plain": [
       "['appengine',\n",
       " 'arch',\n",
       " 'benchmarks',\n",
       " 'blog',\n",
       " 'build',\n",
       " 'crypto',\n",
       " 'cwg',\n",
       " 'debug',\n",
       " 'dep',\n",
       " 'dl',\n",
       " 'example',\n",
       " 'exp',\n",
       " 'freetype',\n",
       " 'gddo',\n",
       " 'geo',\n",
       " 'glog',\n",
       " 'go',\n",
       " 'go-get-issue-15410',\n",
       " 'gofrontend',\n",
       " 'groupcache',\n",
       " 'image',\n",
       " 'leveldb',\n",
       " 'lint',\n",
       " 'mobile',\n",
       " 'mock',\n",
       " 'mod',\n",
       " 'net',\n",
       " 'oauth2',\n",
       " 'perf',\n",
       " 'pkgsite']"
      ]
     },
     "execution_count": 2,
     "metadata": {},
     "output_type": "execute_result"
    }
   ],
   "source": [
    "repos = requests.get(\"https://api.github.com/users/golang/repos\")\n",
    "a = [i['name'] for i in repos.json()]\n",
    "\n",
    "# Не совсем понял, что нужно сохранить; > сохраняю весь вывод.\n",
    "# Кстати, в выводе не все репозитории, не могу понять почему. Может часть из них только для авторизированных?\n",
    "with open(\"task_1_repos.json\", 'w') as f:\n",
    "    json.dump(repos.json(),f)\n",
    "\n",
    "a"
   ]
  }
 ],
 "metadata": {
  "kernelspec": {
   "display_name": "Python 3",
   "language": "python",
   "name": "python3"
  },
  "language_info": {
   "codemirror_mode": {
    "name": "ipython",
    "version": 3
   },
   "file_extension": ".py",
   "mimetype": "text/x-python",
   "name": "python",
   "nbconvert_exporter": "python",
   "pygments_lexer": "ipython3",
   "version": "3.7.6"
  }
 },
 "nbformat": 4,
 "nbformat_minor": 4
}
